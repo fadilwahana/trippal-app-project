{
  "cells": [
    {
      "cell_type": "markdown",
      "source": [
        "## **C23-PS251 Team (TripPal)**\n",
        "\n",
        "1. (ML) M038DKX4056 – Muhammad Fa'iz Ismail\n",
        "2. (ML) M038DSY3620 – Miftah Fahira\n",
        "3. (CC) C149DSX1648 – Muhammad Faadhil Putra Wahana\n",
        "4. (CC) C149DSX3413 – Nur Muhammad Alhakim\n",
        "5. (MD) A150DSX2298 – Isnandar Humaedi\n",
        "6. (MD) A149DSX2729 – Muhammad Lathif Habibi\n",
        "\n"
      ],
      "metadata": {
        "id": "_Z_JSKpUKLmI"
      }
    },
    {
      "cell_type": "markdown",
      "source": [
        "**Importing Data**"
      ],
      "metadata": {
        "id": "mdrYyxHhKqhs"
      }
    },
    {
      "cell_type": "code",
      "execution_count": null,
      "metadata": {
        "id": "J_dErb7F4O85"
      },
      "outputs": [],
      "source": [
        "import pandas as pd\n",
        "import numpy as np"
      ]
    },
    {
      "cell_type": "code",
      "execution_count": null,
      "metadata": {
        "id": "kcHhS1Eu4Yqi"
      },
      "outputs": [],
      "source": [
        "#from google.colab import files\n",
        "#uploades = files.upload()"
      ]
    },
    {
      "cell_type": "code",
      "execution_count": null,
      "metadata": {
        "colab": {
          "base_uri": "https://localhost:8080/",
          "height": 337
        },
        "id": "vBS9c6S44YwF",
        "outputId": "881dd6fd-af8e-42d4-dc0d-d442ea25320c"
      },
      "outputs": [
        {
          "output_type": "execute_result",
          "data": {
            "text/plain": [
              "                  Nama                         Email Jenis Kelamin  Umur  \\\n",
              "0         Nadia Sinaga       nadiasinaga@example.com        Wanita    18   \n",
              "1        Ajimat Mansur      ajimatmansur@example.com        Wanita    30   \n",
              "2       Emong Nasyidah     emongnasyidah@example.com        Wanita    28   \n",
              "3       Jamil Suartini     jamilsuartini@example.com        Wanita    20   \n",
              "4  dr. Vinsen Winarsih  drvinsenwinarsih@example.com          Pria    23   \n",
              "\n",
              "                     Kota Domisili                               Pekerjaan  \\\n",
              "0                          Kendari                       Building surveyor   \n",
              "1                           Serang                       Film/video editor   \n",
              "2                        Pontianak  Scientist, product/process development   \n",
              "3                           Malang               Editor, magazine features   \n",
              "4  Kota Administrasi Jakarta Timur                    Newspaper journalist   \n",
              "\n",
              "          No HP      Hobi      Preferensi Perjalanan          SIM  \n",
              "0  878034636778  Berkebun                Wisata Alam            -  \n",
              "1  813884825754   Membaca  Wisata Sejarah dan Religi  SIM A dan C  \n",
              "2  896986982981   Membaca  Wisata Sejarah dan Religi  SIM A dan C  \n",
              "3  876504901522   Membaca             Wisata Kuliner  SIM A dan C  \n",
              "4  822916926998   Membaca                Wisata Alam            -  "
            ],
            "text/html": [
              "\n",
              "  <div id=\"df-64f462e2-7440-41b5-ab3b-2cdb5d738925\">\n",
              "    <div class=\"colab-df-container\">\n",
              "      <div>\n",
              "<style scoped>\n",
              "    .dataframe tbody tr th:only-of-type {\n",
              "        vertical-align: middle;\n",
              "    }\n",
              "\n",
              "    .dataframe tbody tr th {\n",
              "        vertical-align: top;\n",
              "    }\n",
              "\n",
              "    .dataframe thead th {\n",
              "        text-align: right;\n",
              "    }\n",
              "</style>\n",
              "<table border=\"1\" class=\"dataframe\">\n",
              "  <thead>\n",
              "    <tr style=\"text-align: right;\">\n",
              "      <th></th>\n",
              "      <th>Nama</th>\n",
              "      <th>Email</th>\n",
              "      <th>Jenis Kelamin</th>\n",
              "      <th>Umur</th>\n",
              "      <th>Kota Domisili</th>\n",
              "      <th>Pekerjaan</th>\n",
              "      <th>No HP</th>\n",
              "      <th>Hobi</th>\n",
              "      <th>Preferensi Perjalanan</th>\n",
              "      <th>SIM</th>\n",
              "    </tr>\n",
              "  </thead>\n",
              "  <tbody>\n",
              "    <tr>\n",
              "      <th>0</th>\n",
              "      <td>Nadia Sinaga</td>\n",
              "      <td>nadiasinaga@example.com</td>\n",
              "      <td>Wanita</td>\n",
              "      <td>18</td>\n",
              "      <td>Kendari</td>\n",
              "      <td>Building surveyor</td>\n",
              "      <td>878034636778</td>\n",
              "      <td>Berkebun</td>\n",
              "      <td>Wisata Alam</td>\n",
              "      <td>-</td>\n",
              "    </tr>\n",
              "    <tr>\n",
              "      <th>1</th>\n",
              "      <td>Ajimat Mansur</td>\n",
              "      <td>ajimatmansur@example.com</td>\n",
              "      <td>Wanita</td>\n",
              "      <td>30</td>\n",
              "      <td>Serang</td>\n",
              "      <td>Film/video editor</td>\n",
              "      <td>813884825754</td>\n",
              "      <td>Membaca</td>\n",
              "      <td>Wisata Sejarah dan Religi</td>\n",
              "      <td>SIM A dan C</td>\n",
              "    </tr>\n",
              "    <tr>\n",
              "      <th>2</th>\n",
              "      <td>Emong Nasyidah</td>\n",
              "      <td>emongnasyidah@example.com</td>\n",
              "      <td>Wanita</td>\n",
              "      <td>28</td>\n",
              "      <td>Pontianak</td>\n",
              "      <td>Scientist, product/process development</td>\n",
              "      <td>896986982981</td>\n",
              "      <td>Membaca</td>\n",
              "      <td>Wisata Sejarah dan Religi</td>\n",
              "      <td>SIM A dan C</td>\n",
              "    </tr>\n",
              "    <tr>\n",
              "      <th>3</th>\n",
              "      <td>Jamil Suartini</td>\n",
              "      <td>jamilsuartini@example.com</td>\n",
              "      <td>Wanita</td>\n",
              "      <td>20</td>\n",
              "      <td>Malang</td>\n",
              "      <td>Editor, magazine features</td>\n",
              "      <td>876504901522</td>\n",
              "      <td>Membaca</td>\n",
              "      <td>Wisata Kuliner</td>\n",
              "      <td>SIM A dan C</td>\n",
              "    </tr>\n",
              "    <tr>\n",
              "      <th>4</th>\n",
              "      <td>dr. Vinsen Winarsih</td>\n",
              "      <td>drvinsenwinarsih@example.com</td>\n",
              "      <td>Pria</td>\n",
              "      <td>23</td>\n",
              "      <td>Kota Administrasi Jakarta Timur</td>\n",
              "      <td>Newspaper journalist</td>\n",
              "      <td>822916926998</td>\n",
              "      <td>Membaca</td>\n",
              "      <td>Wisata Alam</td>\n",
              "      <td>-</td>\n",
              "    </tr>\n",
              "  </tbody>\n",
              "</table>\n",
              "</div>\n",
              "      <button class=\"colab-df-convert\" onclick=\"convertToInteractive('df-64f462e2-7440-41b5-ab3b-2cdb5d738925')\"\n",
              "              title=\"Convert this dataframe to an interactive table.\"\n",
              "              style=\"display:none;\">\n",
              "        \n",
              "  <svg xmlns=\"http://www.w3.org/2000/svg\" height=\"24px\"viewBox=\"0 0 24 24\"\n",
              "       width=\"24px\">\n",
              "    <path d=\"M0 0h24v24H0V0z\" fill=\"none\"/>\n",
              "    <path d=\"M18.56 5.44l.94 2.06.94-2.06 2.06-.94-2.06-.94-.94-2.06-.94 2.06-2.06.94zm-11 1L8.5 8.5l.94-2.06 2.06-.94-2.06-.94L8.5 2.5l-.94 2.06-2.06.94zm10 10l.94 2.06.94-2.06 2.06-.94-2.06-.94-.94-2.06-.94 2.06-2.06.94z\"/><path d=\"M17.41 7.96l-1.37-1.37c-.4-.4-.92-.59-1.43-.59-.52 0-1.04.2-1.43.59L10.3 9.45l-7.72 7.72c-.78.78-.78 2.05 0 2.83L4 21.41c.39.39.9.59 1.41.59.51 0 1.02-.2 1.41-.59l7.78-7.78 2.81-2.81c.8-.78.8-2.07 0-2.86zM5.41 20L4 18.59l7.72-7.72 1.47 1.35L5.41 20z\"/>\n",
              "  </svg>\n",
              "      </button>\n",
              "      \n",
              "  <style>\n",
              "    .colab-df-container {\n",
              "      display:flex;\n",
              "      flex-wrap:wrap;\n",
              "      gap: 12px;\n",
              "    }\n",
              "\n",
              "    .colab-df-convert {\n",
              "      background-color: #E8F0FE;\n",
              "      border: none;\n",
              "      border-radius: 50%;\n",
              "      cursor: pointer;\n",
              "      display: none;\n",
              "      fill: #1967D2;\n",
              "      height: 32px;\n",
              "      padding: 0 0 0 0;\n",
              "      width: 32px;\n",
              "    }\n",
              "\n",
              "    .colab-df-convert:hover {\n",
              "      background-color: #E2EBFA;\n",
              "      box-shadow: 0px 1px 2px rgba(60, 64, 67, 0.3), 0px 1px 3px 1px rgba(60, 64, 67, 0.15);\n",
              "      fill: #174EA6;\n",
              "    }\n",
              "\n",
              "    [theme=dark] .colab-df-convert {\n",
              "      background-color: #3B4455;\n",
              "      fill: #D2E3FC;\n",
              "    }\n",
              "\n",
              "    [theme=dark] .colab-df-convert:hover {\n",
              "      background-color: #434B5C;\n",
              "      box-shadow: 0px 1px 3px 1px rgba(0, 0, 0, 0.15);\n",
              "      filter: drop-shadow(0px 1px 2px rgba(0, 0, 0, 0.3));\n",
              "      fill: #FFFFFF;\n",
              "    }\n",
              "  </style>\n",
              "\n",
              "      <script>\n",
              "        const buttonEl =\n",
              "          document.querySelector('#df-64f462e2-7440-41b5-ab3b-2cdb5d738925 button.colab-df-convert');\n",
              "        buttonEl.style.display =\n",
              "          google.colab.kernel.accessAllowed ? 'block' : 'none';\n",
              "\n",
              "        async function convertToInteractive(key) {\n",
              "          const element = document.querySelector('#df-64f462e2-7440-41b5-ab3b-2cdb5d738925');\n",
              "          const dataTable =\n",
              "            await google.colab.kernel.invokeFunction('convertToInteractive',\n",
              "                                                     [key], {});\n",
              "          if (!dataTable) return;\n",
              "\n",
              "          const docLinkHtml = 'Like what you see? Visit the ' +\n",
              "            '<a target=\"_blank\" href=https://colab.research.google.com/notebooks/data_table.ipynb>data table notebook</a>'\n",
              "            + ' to learn more about interactive tables.';\n",
              "          element.innerHTML = '';\n",
              "          dataTable['output_type'] = 'display_data';\n",
              "          await google.colab.output.renderOutput(dataTable, element);\n",
              "          const docLink = document.createElement('div');\n",
              "          docLink.innerHTML = docLinkHtml;\n",
              "          element.appendChild(docLink);\n",
              "        }\n",
              "      </script>\n",
              "    </div>\n",
              "  </div>\n",
              "  "
            ]
          },
          "metadata": {},
          "execution_count": 3
        }
      ],
      "source": [
        "data = pd.read_csv('dummy.csv')\n",
        "data.head()"
      ]
    },
    {
      "cell_type": "markdown",
      "source": [
        "**Preprocessing Data**"
      ],
      "metadata": {
        "id": "rrJybgMmK3t8"
      }
    },
    {
      "cell_type": "code",
      "source": [
        "from sklearn.model_selection import train_test_split\n",
        "from sklearn.metrics.pairwise import cosine_similarity"
      ],
      "metadata": {
        "id": "U1_u4QQdMAhH"
      },
      "execution_count": null,
      "outputs": []
    },
    {
      "cell_type": "code",
      "source": [
        "# Reorder the columns to have 'Nama' as the first column\n",
        "data = data[['Nama', 'Jenis Kelamin', 'Umur', 'Hobi', 'Preferensi Perjalanan']]\n",
        "data.head()"
      ],
      "metadata": {
        "id": "gDhX2HzdMAlF",
        "colab": {
          "base_uri": "https://localhost:8080/",
          "height": 206
        },
        "outputId": "1d2ce5c4-2969-46a3-e099-6c9f53587a30"
      },
      "execution_count": null,
      "outputs": [
        {
          "output_type": "execute_result",
          "data": {
            "text/plain": [
              "                  Nama Jenis Kelamin  Umur      Hobi  \\\n",
              "0         Nadia Sinaga        Wanita    18  Berkebun   \n",
              "1        Ajimat Mansur        Wanita    30   Membaca   \n",
              "2       Emong Nasyidah        Wanita    28   Membaca   \n",
              "3       Jamil Suartini        Wanita    20   Membaca   \n",
              "4  dr. Vinsen Winarsih          Pria    23   Membaca   \n",
              "\n",
              "       Preferensi Perjalanan  \n",
              "0                Wisata Alam  \n",
              "1  Wisata Sejarah dan Religi  \n",
              "2  Wisata Sejarah dan Religi  \n",
              "3             Wisata Kuliner  \n",
              "4                Wisata Alam  "
            ],
            "text/html": [
              "\n",
              "  <div id=\"df-f6ac04df-c3b3-44b4-90e2-593bf5d11877\">\n",
              "    <div class=\"colab-df-container\">\n",
              "      <div>\n",
              "<style scoped>\n",
              "    .dataframe tbody tr th:only-of-type {\n",
              "        vertical-align: middle;\n",
              "    }\n",
              "\n",
              "    .dataframe tbody tr th {\n",
              "        vertical-align: top;\n",
              "    }\n",
              "\n",
              "    .dataframe thead th {\n",
              "        text-align: right;\n",
              "    }\n",
              "</style>\n",
              "<table border=\"1\" class=\"dataframe\">\n",
              "  <thead>\n",
              "    <tr style=\"text-align: right;\">\n",
              "      <th></th>\n",
              "      <th>Nama</th>\n",
              "      <th>Jenis Kelamin</th>\n",
              "      <th>Umur</th>\n",
              "      <th>Hobi</th>\n",
              "      <th>Preferensi Perjalanan</th>\n",
              "    </tr>\n",
              "  </thead>\n",
              "  <tbody>\n",
              "    <tr>\n",
              "      <th>0</th>\n",
              "      <td>Nadia Sinaga</td>\n",
              "      <td>Wanita</td>\n",
              "      <td>18</td>\n",
              "      <td>Berkebun</td>\n",
              "      <td>Wisata Alam</td>\n",
              "    </tr>\n",
              "    <tr>\n",
              "      <th>1</th>\n",
              "      <td>Ajimat Mansur</td>\n",
              "      <td>Wanita</td>\n",
              "      <td>30</td>\n",
              "      <td>Membaca</td>\n",
              "      <td>Wisata Sejarah dan Religi</td>\n",
              "    </tr>\n",
              "    <tr>\n",
              "      <th>2</th>\n",
              "      <td>Emong Nasyidah</td>\n",
              "      <td>Wanita</td>\n",
              "      <td>28</td>\n",
              "      <td>Membaca</td>\n",
              "      <td>Wisata Sejarah dan Religi</td>\n",
              "    </tr>\n",
              "    <tr>\n",
              "      <th>3</th>\n",
              "      <td>Jamil Suartini</td>\n",
              "      <td>Wanita</td>\n",
              "      <td>20</td>\n",
              "      <td>Membaca</td>\n",
              "      <td>Wisata Kuliner</td>\n",
              "    </tr>\n",
              "    <tr>\n",
              "      <th>4</th>\n",
              "      <td>dr. Vinsen Winarsih</td>\n",
              "      <td>Pria</td>\n",
              "      <td>23</td>\n",
              "      <td>Membaca</td>\n",
              "      <td>Wisata Alam</td>\n",
              "    </tr>\n",
              "  </tbody>\n",
              "</table>\n",
              "</div>\n",
              "      <button class=\"colab-df-convert\" onclick=\"convertToInteractive('df-f6ac04df-c3b3-44b4-90e2-593bf5d11877')\"\n",
              "              title=\"Convert this dataframe to an interactive table.\"\n",
              "              style=\"display:none;\">\n",
              "        \n",
              "  <svg xmlns=\"http://www.w3.org/2000/svg\" height=\"24px\"viewBox=\"0 0 24 24\"\n",
              "       width=\"24px\">\n",
              "    <path d=\"M0 0h24v24H0V0z\" fill=\"none\"/>\n",
              "    <path d=\"M18.56 5.44l.94 2.06.94-2.06 2.06-.94-2.06-.94-.94-2.06-.94 2.06-2.06.94zm-11 1L8.5 8.5l.94-2.06 2.06-.94-2.06-.94L8.5 2.5l-.94 2.06-2.06.94zm10 10l.94 2.06.94-2.06 2.06-.94-2.06-.94-.94-2.06-.94 2.06-2.06.94z\"/><path d=\"M17.41 7.96l-1.37-1.37c-.4-.4-.92-.59-1.43-.59-.52 0-1.04.2-1.43.59L10.3 9.45l-7.72 7.72c-.78.78-.78 2.05 0 2.83L4 21.41c.39.39.9.59 1.41.59.51 0 1.02-.2 1.41-.59l7.78-7.78 2.81-2.81c.8-.78.8-2.07 0-2.86zM5.41 20L4 18.59l7.72-7.72 1.47 1.35L5.41 20z\"/>\n",
              "  </svg>\n",
              "      </button>\n",
              "      \n",
              "  <style>\n",
              "    .colab-df-container {\n",
              "      display:flex;\n",
              "      flex-wrap:wrap;\n",
              "      gap: 12px;\n",
              "    }\n",
              "\n",
              "    .colab-df-convert {\n",
              "      background-color: #E8F0FE;\n",
              "      border: none;\n",
              "      border-radius: 50%;\n",
              "      cursor: pointer;\n",
              "      display: none;\n",
              "      fill: #1967D2;\n",
              "      height: 32px;\n",
              "      padding: 0 0 0 0;\n",
              "      width: 32px;\n",
              "    }\n",
              "\n",
              "    .colab-df-convert:hover {\n",
              "      background-color: #E2EBFA;\n",
              "      box-shadow: 0px 1px 2px rgba(60, 64, 67, 0.3), 0px 1px 3px 1px rgba(60, 64, 67, 0.15);\n",
              "      fill: #174EA6;\n",
              "    }\n",
              "\n",
              "    [theme=dark] .colab-df-convert {\n",
              "      background-color: #3B4455;\n",
              "      fill: #D2E3FC;\n",
              "    }\n",
              "\n",
              "    [theme=dark] .colab-df-convert:hover {\n",
              "      background-color: #434B5C;\n",
              "      box-shadow: 0px 1px 3px 1px rgba(0, 0, 0, 0.15);\n",
              "      filter: drop-shadow(0px 1px 2px rgba(0, 0, 0, 0.3));\n",
              "      fill: #FFFFFF;\n",
              "    }\n",
              "  </style>\n",
              "\n",
              "      <script>\n",
              "        const buttonEl =\n",
              "          document.querySelector('#df-f6ac04df-c3b3-44b4-90e2-593bf5d11877 button.colab-df-convert');\n",
              "        buttonEl.style.display =\n",
              "          google.colab.kernel.accessAllowed ? 'block' : 'none';\n",
              "\n",
              "        async function convertToInteractive(key) {\n",
              "          const element = document.querySelector('#df-f6ac04df-c3b3-44b4-90e2-593bf5d11877');\n",
              "          const dataTable =\n",
              "            await google.colab.kernel.invokeFunction('convertToInteractive',\n",
              "                                                     [key], {});\n",
              "          if (!dataTable) return;\n",
              "\n",
              "          const docLinkHtml = 'Like what you see? Visit the ' +\n",
              "            '<a target=\"_blank\" href=https://colab.research.google.com/notebooks/data_table.ipynb>data table notebook</a>'\n",
              "            + ' to learn more about interactive tables.';\n",
              "          element.innerHTML = '';\n",
              "          dataTable['output_type'] = 'display_data';\n",
              "          await google.colab.output.renderOutput(dataTable, element);\n",
              "          const docLink = document.createElement('div');\n",
              "          docLink.innerHTML = docLinkHtml;\n",
              "          element.appendChild(docLink);\n",
              "        }\n",
              "      </script>\n",
              "    </div>\n",
              "  </div>\n",
              "  "
            ]
          },
          "metadata": {},
          "execution_count": 5
        }
      ]
    },
    {
      "cell_type": "code",
      "source": [
        "# Preprocess the data\n",
        "data['Preferensi Perjalanan'] = data['Preferensi Perjalanan'].apply(lambda x: ''.join(x.split()).lower())\n",
        "data['Jenis Kelamin'] = data['Jenis Kelamin'].apply(lambda x: x.lower())\n",
        "data['Hobi'] = data['Hobi'].apply(lambda x: x.lower())\n",
        "data.set_index('Nama', inplace=True)\n",
        "data.head()"
      ],
      "metadata": {
        "colab": {
          "base_uri": "https://localhost:8080/",
          "height": 550
        },
        "id": "R1eg19M0MAnu",
        "outputId": "22c6be4e-4fc4-4430-cd73-8b441226228c"
      },
      "execution_count": null,
      "outputs": [
        {
          "output_type": "stream",
          "name": "stderr",
          "text": [
            "<ipython-input-6-5a1c51e6e85a>:2: SettingWithCopyWarning: \n",
            "A value is trying to be set on a copy of a slice from a DataFrame.\n",
            "Try using .loc[row_indexer,col_indexer] = value instead\n",
            "\n",
            "See the caveats in the documentation: https://pandas.pydata.org/pandas-docs/stable/user_guide/indexing.html#returning-a-view-versus-a-copy\n",
            "  data['Preferensi Perjalanan'] = data['Preferensi Perjalanan'].apply(lambda x: ''.join(x.split()).lower())\n",
            "<ipython-input-6-5a1c51e6e85a>:3: SettingWithCopyWarning: \n",
            "A value is trying to be set on a copy of a slice from a DataFrame.\n",
            "Try using .loc[row_indexer,col_indexer] = value instead\n",
            "\n",
            "See the caveats in the documentation: https://pandas.pydata.org/pandas-docs/stable/user_guide/indexing.html#returning-a-view-versus-a-copy\n",
            "  data['Jenis Kelamin'] = data['Jenis Kelamin'].apply(lambda x: x.lower())\n",
            "<ipython-input-6-5a1c51e6e85a>:4: SettingWithCopyWarning: \n",
            "A value is trying to be set on a copy of a slice from a DataFrame.\n",
            "Try using .loc[row_indexer,col_indexer] = value instead\n",
            "\n",
            "See the caveats in the documentation: https://pandas.pydata.org/pandas-docs/stable/user_guide/indexing.html#returning-a-view-versus-a-copy\n",
            "  data['Hobi'] = data['Hobi'].apply(lambda x: x.lower())\n"
          ]
        },
        {
          "output_type": "execute_result",
          "data": {
            "text/plain": [
              "                    Jenis Kelamin  Umur      Hobi   Preferensi Perjalanan\n",
              "Nama                                                                     \n",
              "Nadia Sinaga               wanita    18  berkebun              wisataalam\n",
              "Ajimat Mansur              wanita    30   membaca  wisatasejarahdanreligi\n",
              "Emong Nasyidah             wanita    28   membaca  wisatasejarahdanreligi\n",
              "Jamil Suartini             wanita    20   membaca           wisatakuliner\n",
              "dr. Vinsen Winarsih          pria    23   membaca              wisataalam"
            ],
            "text/html": [
              "\n",
              "  <div id=\"df-98f07ccb-3983-4252-af15-b4fa832d3a45\">\n",
              "    <div class=\"colab-df-container\">\n",
              "      <div>\n",
              "<style scoped>\n",
              "    .dataframe tbody tr th:only-of-type {\n",
              "        vertical-align: middle;\n",
              "    }\n",
              "\n",
              "    .dataframe tbody tr th {\n",
              "        vertical-align: top;\n",
              "    }\n",
              "\n",
              "    .dataframe thead th {\n",
              "        text-align: right;\n",
              "    }\n",
              "</style>\n",
              "<table border=\"1\" class=\"dataframe\">\n",
              "  <thead>\n",
              "    <tr style=\"text-align: right;\">\n",
              "      <th></th>\n",
              "      <th>Jenis Kelamin</th>\n",
              "      <th>Umur</th>\n",
              "      <th>Hobi</th>\n",
              "      <th>Preferensi Perjalanan</th>\n",
              "    </tr>\n",
              "    <tr>\n",
              "      <th>Nama</th>\n",
              "      <th></th>\n",
              "      <th></th>\n",
              "      <th></th>\n",
              "      <th></th>\n",
              "    </tr>\n",
              "  </thead>\n",
              "  <tbody>\n",
              "    <tr>\n",
              "      <th>Nadia Sinaga</th>\n",
              "      <td>wanita</td>\n",
              "      <td>18</td>\n",
              "      <td>berkebun</td>\n",
              "      <td>wisataalam</td>\n",
              "    </tr>\n",
              "    <tr>\n",
              "      <th>Ajimat Mansur</th>\n",
              "      <td>wanita</td>\n",
              "      <td>30</td>\n",
              "      <td>membaca</td>\n",
              "      <td>wisatasejarahdanreligi</td>\n",
              "    </tr>\n",
              "    <tr>\n",
              "      <th>Emong Nasyidah</th>\n",
              "      <td>wanita</td>\n",
              "      <td>28</td>\n",
              "      <td>membaca</td>\n",
              "      <td>wisatasejarahdanreligi</td>\n",
              "    </tr>\n",
              "    <tr>\n",
              "      <th>Jamil Suartini</th>\n",
              "      <td>wanita</td>\n",
              "      <td>20</td>\n",
              "      <td>membaca</td>\n",
              "      <td>wisatakuliner</td>\n",
              "    </tr>\n",
              "    <tr>\n",
              "      <th>dr. Vinsen Winarsih</th>\n",
              "      <td>pria</td>\n",
              "      <td>23</td>\n",
              "      <td>membaca</td>\n",
              "      <td>wisataalam</td>\n",
              "    </tr>\n",
              "  </tbody>\n",
              "</table>\n",
              "</div>\n",
              "      <button class=\"colab-df-convert\" onclick=\"convertToInteractive('df-98f07ccb-3983-4252-af15-b4fa832d3a45')\"\n",
              "              title=\"Convert this dataframe to an interactive table.\"\n",
              "              style=\"display:none;\">\n",
              "        \n",
              "  <svg xmlns=\"http://www.w3.org/2000/svg\" height=\"24px\"viewBox=\"0 0 24 24\"\n",
              "       width=\"24px\">\n",
              "    <path d=\"M0 0h24v24H0V0z\" fill=\"none\"/>\n",
              "    <path d=\"M18.56 5.44l.94 2.06.94-2.06 2.06-.94-2.06-.94-.94-2.06-.94 2.06-2.06.94zm-11 1L8.5 8.5l.94-2.06 2.06-.94-2.06-.94L8.5 2.5l-.94 2.06-2.06.94zm10 10l.94 2.06.94-2.06 2.06-.94-2.06-.94-.94-2.06-.94 2.06-2.06.94z\"/><path d=\"M17.41 7.96l-1.37-1.37c-.4-.4-.92-.59-1.43-.59-.52 0-1.04.2-1.43.59L10.3 9.45l-7.72 7.72c-.78.78-.78 2.05 0 2.83L4 21.41c.39.39.9.59 1.41.59.51 0 1.02-.2 1.41-.59l7.78-7.78 2.81-2.81c.8-.78.8-2.07 0-2.86zM5.41 20L4 18.59l7.72-7.72 1.47 1.35L5.41 20z\"/>\n",
              "  </svg>\n",
              "      </button>\n",
              "      \n",
              "  <style>\n",
              "    .colab-df-container {\n",
              "      display:flex;\n",
              "      flex-wrap:wrap;\n",
              "      gap: 12px;\n",
              "    }\n",
              "\n",
              "    .colab-df-convert {\n",
              "      background-color: #E8F0FE;\n",
              "      border: none;\n",
              "      border-radius: 50%;\n",
              "      cursor: pointer;\n",
              "      display: none;\n",
              "      fill: #1967D2;\n",
              "      height: 32px;\n",
              "      padding: 0 0 0 0;\n",
              "      width: 32px;\n",
              "    }\n",
              "\n",
              "    .colab-df-convert:hover {\n",
              "      background-color: #E2EBFA;\n",
              "      box-shadow: 0px 1px 2px rgba(60, 64, 67, 0.3), 0px 1px 3px 1px rgba(60, 64, 67, 0.15);\n",
              "      fill: #174EA6;\n",
              "    }\n",
              "\n",
              "    [theme=dark] .colab-df-convert {\n",
              "      background-color: #3B4455;\n",
              "      fill: #D2E3FC;\n",
              "    }\n",
              "\n",
              "    [theme=dark] .colab-df-convert:hover {\n",
              "      background-color: #434B5C;\n",
              "      box-shadow: 0px 1px 3px 1px rgba(0, 0, 0, 0.15);\n",
              "      filter: drop-shadow(0px 1px 2px rgba(0, 0, 0, 0.3));\n",
              "      fill: #FFFFFF;\n",
              "    }\n",
              "  </style>\n",
              "\n",
              "      <script>\n",
              "        const buttonEl =\n",
              "          document.querySelector('#df-98f07ccb-3983-4252-af15-b4fa832d3a45 button.colab-df-convert');\n",
              "        buttonEl.style.display =\n",
              "          google.colab.kernel.accessAllowed ? 'block' : 'none';\n",
              "\n",
              "        async function convertToInteractive(key) {\n",
              "          const element = document.querySelector('#df-98f07ccb-3983-4252-af15-b4fa832d3a45');\n",
              "          const dataTable =\n",
              "            await google.colab.kernel.invokeFunction('convertToInteractive',\n",
              "                                                     [key], {});\n",
              "          if (!dataTable) return;\n",
              "\n",
              "          const docLinkHtml = 'Like what you see? Visit the ' +\n",
              "            '<a target=\"_blank\" href=https://colab.research.google.com/notebooks/data_table.ipynb>data table notebook</a>'\n",
              "            + ' to learn more about interactive tables.';\n",
              "          element.innerHTML = '';\n",
              "          dataTable['output_type'] = 'display_data';\n",
              "          await google.colab.output.renderOutput(dataTable, element);\n",
              "          const docLink = document.createElement('div');\n",
              "          docLink.innerHTML = docLinkHtml;\n",
              "          element.appendChild(docLink);\n",
              "        }\n",
              "      </script>\n",
              "    </div>\n",
              "  </div>\n",
              "  "
            ]
          },
          "metadata": {},
          "execution_count": 6
        }
      ]
    },
    {
      "cell_type": "code",
      "source": [
        "# Create bag of words for data\n",
        "data['bag_of_words'] = data['Jenis Kelamin'].astype(str) + ' ' + data['Umur'].astype(str) + ' ' + ' ' + data['Hobi'].astype(str) + ' ' + data['Preferensi Perjalanan'].astype(str)\n",
        "data.drop(columns=['Jenis Kelamin', 'Umur', 'Hobi', 'Preferensi Perjalanan'], inplace=True)\n",
        "data.head()"
      ],
      "metadata": {
        "colab": {
          "base_uri": "https://localhost:8080/",
          "height": 238
        },
        "id": "-F7gNXEUMAqG",
        "outputId": "e529c9af-3649-416f-8d9c-f018a6a4a174"
      },
      "execution_count": null,
      "outputs": [
        {
          "output_type": "execute_result",
          "data": {
            "text/plain": [
              "                                                  bag_of_words\n",
              "Nama                                                          \n",
              "Nadia Sinaga                    wanita 18  berkebun wisataalam\n",
              "Ajimat Mansur        wanita 30  membaca wisatasejarahdanreligi\n",
              "Emong Nasyidah       wanita 28  membaca wisatasejarahdanreligi\n",
              "Jamil Suartini                wanita 20  membaca wisatakuliner\n",
              "dr. Vinsen Winarsih                pria 23  membaca wisataalam"
            ],
            "text/html": [
              "\n",
              "  <div id=\"df-2454dd33-b721-46a1-9c69-58d0c0accae7\">\n",
              "    <div class=\"colab-df-container\">\n",
              "      <div>\n",
              "<style scoped>\n",
              "    .dataframe tbody tr th:only-of-type {\n",
              "        vertical-align: middle;\n",
              "    }\n",
              "\n",
              "    .dataframe tbody tr th {\n",
              "        vertical-align: top;\n",
              "    }\n",
              "\n",
              "    .dataframe thead th {\n",
              "        text-align: right;\n",
              "    }\n",
              "</style>\n",
              "<table border=\"1\" class=\"dataframe\">\n",
              "  <thead>\n",
              "    <tr style=\"text-align: right;\">\n",
              "      <th></th>\n",
              "      <th>bag_of_words</th>\n",
              "    </tr>\n",
              "    <tr>\n",
              "      <th>Nama</th>\n",
              "      <th></th>\n",
              "    </tr>\n",
              "  </thead>\n",
              "  <tbody>\n",
              "    <tr>\n",
              "      <th>Nadia Sinaga</th>\n",
              "      <td>wanita 18  berkebun wisataalam</td>\n",
              "    </tr>\n",
              "    <tr>\n",
              "      <th>Ajimat Mansur</th>\n",
              "      <td>wanita 30  membaca wisatasejarahdanreligi</td>\n",
              "    </tr>\n",
              "    <tr>\n",
              "      <th>Emong Nasyidah</th>\n",
              "      <td>wanita 28  membaca wisatasejarahdanreligi</td>\n",
              "    </tr>\n",
              "    <tr>\n",
              "      <th>Jamil Suartini</th>\n",
              "      <td>wanita 20  membaca wisatakuliner</td>\n",
              "    </tr>\n",
              "    <tr>\n",
              "      <th>dr. Vinsen Winarsih</th>\n",
              "      <td>pria 23  membaca wisataalam</td>\n",
              "    </tr>\n",
              "  </tbody>\n",
              "</table>\n",
              "</div>\n",
              "      <button class=\"colab-df-convert\" onclick=\"convertToInteractive('df-2454dd33-b721-46a1-9c69-58d0c0accae7')\"\n",
              "              title=\"Convert this dataframe to an interactive table.\"\n",
              "              style=\"display:none;\">\n",
              "        \n",
              "  <svg xmlns=\"http://www.w3.org/2000/svg\" height=\"24px\"viewBox=\"0 0 24 24\"\n",
              "       width=\"24px\">\n",
              "    <path d=\"M0 0h24v24H0V0z\" fill=\"none\"/>\n",
              "    <path d=\"M18.56 5.44l.94 2.06.94-2.06 2.06-.94-2.06-.94-.94-2.06-.94 2.06-2.06.94zm-11 1L8.5 8.5l.94-2.06 2.06-.94-2.06-.94L8.5 2.5l-.94 2.06-2.06.94zm10 10l.94 2.06.94-2.06 2.06-.94-2.06-.94-.94-2.06-.94 2.06-2.06.94z\"/><path d=\"M17.41 7.96l-1.37-1.37c-.4-.4-.92-.59-1.43-.59-.52 0-1.04.2-1.43.59L10.3 9.45l-7.72 7.72c-.78.78-.78 2.05 0 2.83L4 21.41c.39.39.9.59 1.41.59.51 0 1.02-.2 1.41-.59l7.78-7.78 2.81-2.81c.8-.78.8-2.07 0-2.86zM5.41 20L4 18.59l7.72-7.72 1.47 1.35L5.41 20z\"/>\n",
              "  </svg>\n",
              "      </button>\n",
              "      \n",
              "  <style>\n",
              "    .colab-df-container {\n",
              "      display:flex;\n",
              "      flex-wrap:wrap;\n",
              "      gap: 12px;\n",
              "    }\n",
              "\n",
              "    .colab-df-convert {\n",
              "      background-color: #E8F0FE;\n",
              "      border: none;\n",
              "      border-radius: 50%;\n",
              "      cursor: pointer;\n",
              "      display: none;\n",
              "      fill: #1967D2;\n",
              "      height: 32px;\n",
              "      padding: 0 0 0 0;\n",
              "      width: 32px;\n",
              "    }\n",
              "\n",
              "    .colab-df-convert:hover {\n",
              "      background-color: #E2EBFA;\n",
              "      box-shadow: 0px 1px 2px rgba(60, 64, 67, 0.3), 0px 1px 3px 1px rgba(60, 64, 67, 0.15);\n",
              "      fill: #174EA6;\n",
              "    }\n",
              "\n",
              "    [theme=dark] .colab-df-convert {\n",
              "      background-color: #3B4455;\n",
              "      fill: #D2E3FC;\n",
              "    }\n",
              "\n",
              "    [theme=dark] .colab-df-convert:hover {\n",
              "      background-color: #434B5C;\n",
              "      box-shadow: 0px 1px 3px 1px rgba(0, 0, 0, 0.15);\n",
              "      filter: drop-shadow(0px 1px 2px rgba(0, 0, 0, 0.3));\n",
              "      fill: #FFFFFF;\n",
              "    }\n",
              "  </style>\n",
              "\n",
              "      <script>\n",
              "        const buttonEl =\n",
              "          document.querySelector('#df-2454dd33-b721-46a1-9c69-58d0c0accae7 button.colab-df-convert');\n",
              "        buttonEl.style.display =\n",
              "          google.colab.kernel.accessAllowed ? 'block' : 'none';\n",
              "\n",
              "        async function convertToInteractive(key) {\n",
              "          const element = document.querySelector('#df-2454dd33-b721-46a1-9c69-58d0c0accae7');\n",
              "          const dataTable =\n",
              "            await google.colab.kernel.invokeFunction('convertToInteractive',\n",
              "                                                     [key], {});\n",
              "          if (!dataTable) return;\n",
              "\n",
              "          const docLinkHtml = 'Like what you see? Visit the ' +\n",
              "            '<a target=\"_blank\" href=https://colab.research.google.com/notebooks/data_table.ipynb>data table notebook</a>'\n",
              "            + ' to learn more about interactive tables.';\n",
              "          element.innerHTML = '';\n",
              "          dataTable['output_type'] = 'display_data';\n",
              "          await google.colab.output.renderOutput(dataTable, element);\n",
              "          const docLink = document.createElement('div');\n",
              "          docLink.innerHTML = docLinkHtml;\n",
              "          element.appendChild(docLink);\n",
              "        }\n",
              "      </script>\n",
              "    </div>\n",
              "  </div>\n",
              "  "
            ]
          },
          "metadata": {},
          "execution_count": 7
        }
      ]
    },
    {
      "cell_type": "markdown",
      "source": [
        "**Feature Extraction**\n",
        "\n",
        "\n",
        "*   Processing using a content-based recommendation approach\n",
        "*   Creating recommendations using the cosine similarity method based on the similarity between available data\n",
        "\n",
        "\n",
        "\n",
        "\n",
        "\n"
      ],
      "metadata": {
        "id": "1AI74VV7K-uC"
      }
    },
    {
      "cell_type": "code",
      "source": [
        "from sklearn.feature_extraction.text import CountVectorizer\n",
        "# Create count matrix for data\n",
        "count = CountVectorizer()\n",
        "count_matrix = count.fit_transform(data['bag_of_words'])\n",
        "\n",
        "indices = pd.Series(data.index)\n",
        "cosine_sim = cosine_similarity(count_matrix, count_matrix)\n",
        "\n",
        "def recommendations(nama, cosine_sim=cosine_sim):\n",
        "  recommended_people = []\n",
        "  idx = indices[indices == nama].index[0]\n",
        "  score_series = pd.Series(cosine_sim[idx]).sort_values(ascending=False)\n",
        "  top_10_indexes = list(score_series.iloc[1:11].index)\n",
        "  for i in top_10_indexes:\n",
        "    recommended_people.append(list(data.index)[i])\n",
        "  return recommended_people"
      ],
      "metadata": {
        "id": "VBWqLFveMAs0"
      },
      "execution_count": null,
      "outputs": []
    },
    {
      "cell_type": "code",
      "source": [
        "count_matrix.shape"
      ],
      "metadata": {
        "colab": {
          "base_uri": "https://localhost:8080/"
        },
        "id": "W0EsvB5zzawJ",
        "outputId": "b552baf4-a636-43cc-8b0c-8bba1e2ef94f"
      },
      "execution_count": null,
      "outputs": [
        {
          "output_type": "execute_result",
          "data": {
            "text/plain": [
              "(20000, 48)"
            ]
          },
          "metadata": {},
          "execution_count": 9
        }
      ]
    },
    {
      "cell_type": "code",
      "source": [
        "recommendations('Nadia Sinaga')"
      ],
      "metadata": {
        "id": "r3E6zJ6GRZ6Z",
        "colab": {
          "base_uri": "https://localhost:8080/"
        },
        "outputId": "dd8df688-2f49-47ff-e902-1e6e99de8fe2"
      },
      "execution_count": null,
      "outputs": [
        {
          "output_type": "execute_result",
          "data": {
            "text/plain": [
              "['Wahyu Sihombing',\n",
              " 'Latif Mansur',\n",
              " 'Ir. Jelita Waskita',\n",
              " 'Bakianto Uwais',\n",
              " 'Adikara Prasasta, S.IP',\n",
              " 'Calista Haryanto',\n",
              " 'Irfan Gunarto',\n",
              " 'Marwata Wulandari, S.IP',\n",
              " 'Kamila Habibi, S.E.',\n",
              " 'Diah Melani']"
            ]
          },
          "metadata": {},
          "execution_count": 10
        }
      ]
    },
    {
      "cell_type": "markdown",
      "source": [
        "**Splitting Data**\n",
        "\n",
        "\n",
        "*   Splitting features (X) and labels (y)\n",
        "*   Splitting data into training and testing sets\n",
        "\n"
      ],
      "metadata": {
        "id": "ltiHBOF8LcN6"
      }
    },
    {
      "cell_type": "code",
      "source": [
        "data['Recommendations'] = data.index.map(recommendations)\n",
        "data['CorrectRecommendation'] = data.apply(lambda x: x.name in x['Recommendations'], axis=1)\n",
        "\n",
        "# Split the test data into features (X) and labels (y)\n",
        "data.reset_index(drop=True, inplace=True)\n",
        "indices = data.index.to_numpy()\n",
        "X = count_matrix[indices]\n",
        "y = data['CorrectRecommendation'].astype(int)"
      ],
      "metadata": {
        "id": "B1N3tWrbEoyQ"
      },
      "execution_count": null,
      "outputs": []
    },
    {
      "cell_type": "code",
      "source": [
        "X.toarray().shape"
      ],
      "metadata": {
        "colab": {
          "base_uri": "https://localhost:8080/"
        },
        "id": "60zF3iYny5Yn",
        "outputId": "47a19297-de36-415c-9260-654c0b967a8b"
      },
      "execution_count": null,
      "outputs": [
        {
          "output_type": "execute_result",
          "data": {
            "text/plain": [
              "(20000, 48)"
            ]
          },
          "metadata": {},
          "execution_count": 12
        }
      ]
    },
    {
      "cell_type": "code",
      "source": [
        "print(X)"
      ],
      "metadata": {
        "colab": {
          "base_uri": "https://localhost:8080/"
        },
        "id": "nOH9-yGOy1tT",
        "outputId": "fca0f182-1f72-4b45-f38d-94585a2a425a"
      },
      "execution_count": null,
      "outputs": [
        {
          "output_type": "stream",
          "name": "stdout",
          "text": [
            "  (0, 1)\t1\n",
            "  (0, 34)\t1\n",
            "  (0, 43)\t1\n",
            "  (0, 44)\t1\n",
            "  (1, 13)\t1\n",
            "  (1, 38)\t1\n",
            "  (1, 43)\t1\n",
            "  (1, 46)\t1\n",
            "  (2, 11)\t1\n",
            "  (2, 38)\t1\n",
            "  (2, 43)\t1\n",
            "  (2, 46)\t1\n",
            "  (3, 3)\t1\n",
            "  (3, 38)\t1\n",
            "  (3, 43)\t1\n",
            "  (3, 45)\t1\n",
            "  (4, 6)\t1\n",
            "  (4, 38)\t1\n",
            "  (4, 42)\t1\n",
            "  (4, 44)\t1\n",
            "  (5, 2)\t1\n",
            "  (5, 41)\t1\n",
            "  (5, 43)\t1\n",
            "  (5, 45)\t1\n",
            "  (6, 19)\t1\n",
            "  :\t:\n",
            "  (19993, 45)\t1\n",
            "  (19994, 4)\t1\n",
            "  (19994, 36)\t1\n",
            "  (19994, 43)\t1\n",
            "  (19994, 46)\t1\n",
            "  (19995, 13)\t1\n",
            "  (19995, 36)\t1\n",
            "  (19995, 43)\t1\n",
            "  (19995, 45)\t1\n",
            "  (19996, 15)\t1\n",
            "  (19996, 36)\t1\n",
            "  (19996, 43)\t1\n",
            "  (19996, 44)\t1\n",
            "  (19997, 24)\t1\n",
            "  (19997, 41)\t1\n",
            "  (19997, 42)\t1\n",
            "  (19997, 44)\t1\n",
            "  (19998, 22)\t1\n",
            "  (19998, 40)\t1\n",
            "  (19998, 42)\t1\n",
            "  (19998, 47)\t1\n",
            "  (19999, 30)\t1\n",
            "  (19999, 37)\t1\n",
            "  (19999, 43)\t1\n",
            "  (19999, 47)\t1\n"
          ]
        }
      ]
    },
    {
      "cell_type": "code",
      "source": [
        "# Split data into training and testing sets\n",
        "X_train, X_test, y_train, y_test = train_test_split(X, y, test_size=0.2, random_state=42)"
      ],
      "metadata": {
        "id": "lOWrJHIpMAwU"
      },
      "execution_count": null,
      "outputs": []
    },
    {
      "cell_type": "code",
      "source": [
        "print(X_train.shape)\n",
        "print(X_test.shape)\n",
        "print(y_train.shape)\n",
        "print(y_test.shape)"
      ],
      "metadata": {
        "colab": {
          "base_uri": "https://localhost:8080/"
        },
        "id": "EDkfdwoHF4u6",
        "outputId": "0c15c0f6-f9d7-438d-ee94-b23b269dbc1d"
      },
      "execution_count": null,
      "outputs": [
        {
          "output_type": "stream",
          "name": "stdout",
          "text": [
            "(16000, 48)\n",
            "(4000, 48)\n",
            "(16000,)\n",
            "(4000,)\n"
          ]
        }
      ]
    },
    {
      "cell_type": "markdown",
      "source": [
        "**Testing and Evaluating the test results**"
      ],
      "metadata": {
        "id": "O646YuQNMLge"
      }
    },
    {
      "cell_type": "code",
      "source": [
        "accuracy = y_test.mean()\n",
        "print(\"Accuracy:\", accuracy)\n",
        "\n",
        "# Calculate precision, recall, and F1-score\n",
        "from sklearn.metrics import precision_score, recall_score, f1_score\n",
        "\n",
        "# Convert the ground truth labels to the appropriate data type, if needed\n",
        "y_true = y_test.astype(int)\n",
        "\n",
        "# Convert the predicted labels to the appropriate data type, if needed\n",
        "y_pred = y_test.astype(int)\n",
        "\n",
        "# Calculate precision, recall, and F1-score\n",
        "precision = precision_score(y_true, y_pred)\n",
        "recall = recall_score(y_true, y_pred)\n",
        "f1 = f1_score(y_true, y_pred)\n",
        "\n",
        "print(\"Precision:\", precision)\n",
        "print(\"Recall:\", recall)\n",
        "print(\"F1-score:\", f1)"
      ],
      "metadata": {
        "colab": {
          "base_uri": "https://localhost:8080/"
        },
        "id": "AgII8Q20ImGG",
        "outputId": "72af50f2-2d44-4bf4-8601-ccdb5600c3db"
      },
      "execution_count": null,
      "outputs": [
        {
          "output_type": "stream",
          "name": "stdout",
          "text": [
            "Accuracy: 0.83575\n",
            "Precision: 1.0\n",
            "Recall: 1.0\n",
            "F1-score: 1.0\n"
          ]
        }
      ]
    },
    {
      "cell_type": "code",
      "source": [
        "from sklearn.metrics import confusion_matrix\n",
        "\n",
        "# Calculate confusion matrix\n",
        "conf_matrix = confusion_matrix(y_true, y_pred)\n",
        "print(\"Confusion Matrix:\")\n",
        "print(conf_matrix)\n",
        "\n",
        "# Check if the model is overfitting\n",
        "if conf_matrix[0, 0] == y_true.sum() and conf_matrix[1, 1] == y_true.sum():\n",
        "    print(\"Model is overfitting\")\n",
        "else:\n",
        "    print(\"Model is not overfitting\")"
      ],
      "metadata": {
        "colab": {
          "base_uri": "https://localhost:8080/"
        },
        "id": "9RHEum2PegN2",
        "outputId": "419fd7ac-f455-435d-a8d0-70b9c8968417"
      },
      "execution_count": null,
      "outputs": [
        {
          "output_type": "stream",
          "name": "stdout",
          "text": [
            "Confusion Matrix:\n",
            "[[ 657    0]\n",
            " [   0 3343]]\n",
            "Model is not overfitting\n"
          ]
        }
      ]
    },
    {
      "cell_type": "markdown",
      "source": [
        "**Preparing for the model and training**"
      ],
      "metadata": {
        "id": "1J7DWd9EMzQw"
      }
    },
    {
      "cell_type": "code",
      "source": [
        "# Convert bag of words to a numeric representation\n",
        "count_matrix = count_matrix.toarray()\n",
        "\n",
        "# Define the input shape based on the count matrix shape\n",
        "input_shape = count_matrix.shape[1]\n",
        "\n",
        "# Define the number of output classes (binary classification)\n",
        "num_classes = 2"
      ],
      "metadata": {
        "id": "nS-oW053LJVg"
      },
      "execution_count": null,
      "outputs": []
    },
    {
      "cell_type": "markdown",
      "source": [
        "**Model**\n",
        "\n",
        "\n",
        "> The model utilizes a Neural Network (NN) architecture called Dense\n",
        "\n"
      ],
      "metadata": {
        "id": "ZmtVeprlNLXu"
      }
    },
    {
      "cell_type": "code",
      "source": [
        "import tensorflow as tf\n",
        "from keras.models import Sequential\n",
        "from keras.layers import Dense"
      ],
      "metadata": {
        "id": "RTCHEMgDLGdI"
      },
      "execution_count": null,
      "outputs": []
    },
    {
      "cell_type": "code",
      "source": [
        "# Model\n",
        "model = Sequential()\n",
        "model.add(Dense(64, activation='relu', input_shape=(input_shape,)))\n",
        "model.add(Dense(num_classes, activation='softmax'))\n",
        "\n",
        "# Compile the model\n",
        "model.compile(optimizer='adam',\n",
        "              loss='binary_crossentropy',\n",
        "              metrics=['accuracy'])"
      ],
      "metadata": {
        "id": "4Ql0nj3yLJZY"
      },
      "execution_count": null,
      "outputs": []
    },
    {
      "cell_type": "code",
      "source": [
        "from keras.utils import to_categorical\n",
        "\n",
        "# Convert y\n",
        "y_train = to_categorical(y_train, num_classes=num_classes)\n",
        "y_test = to_categorical(y_test, num_classes=num_classes)"
      ],
      "metadata": {
        "id": "RodH-PuFWvif"
      },
      "execution_count": null,
      "outputs": []
    },
    {
      "cell_type": "code",
      "source": [
        "print(X_train)"
      ],
      "metadata": {
        "colab": {
          "base_uri": "https://localhost:8080/"
        },
        "id": "rGNzLZBAxHtG",
        "outputId": "cdf7cb2e-beda-44d9-f44c-40cbc40faa78"
      },
      "execution_count": null,
      "outputs": [
        {
          "output_type": "stream",
          "name": "stdout",
          "text": [
            "  (0, 9)\t1\n",
            "  (0, 38)\t1\n",
            "  (0, 43)\t1\n",
            "  (0, 45)\t1\n",
            "  (1, 30)\t1\n",
            "  (1, 36)\t1\n",
            "  (1, 43)\t1\n",
            "  (1, 45)\t1\n",
            "  (2, 22)\t1\n",
            "  (2, 41)\t1\n",
            "  (2, 42)\t1\n",
            "  (2, 47)\t1\n",
            "  (3, 3)\t1\n",
            "  (3, 40)\t1\n",
            "  (3, 42)\t1\n",
            "  (3, 47)\t1\n",
            "  (4, 29)\t1\n",
            "  (4, 36)\t1\n",
            "  (4, 43)\t1\n",
            "  (4, 45)\t1\n",
            "  (5, 32)\t1\n",
            "  (5, 34)\t1\n",
            "  (5, 43)\t1\n",
            "  (5, 45)\t1\n",
            "  (6, 4)\t1\n",
            "  :\t:\n",
            "  (15993, 47)\t1\n",
            "  (15994, 12)\t1\n",
            "  (15994, 40)\t1\n",
            "  (15994, 43)\t1\n",
            "  (15994, 46)\t1\n",
            "  (15995, 28)\t1\n",
            "  (15995, 36)\t1\n",
            "  (15995, 42)\t1\n",
            "  (15995, 44)\t1\n",
            "  (15996, 17)\t1\n",
            "  (15996, 37)\t1\n",
            "  (15996, 43)\t1\n",
            "  (15996, 45)\t1\n",
            "  (15997, 30)\t1\n",
            "  (15997, 40)\t1\n",
            "  (15997, 42)\t1\n",
            "  (15997, 45)\t1\n",
            "  (15998, 30)\t1\n",
            "  (15998, 35)\t1\n",
            "  (15998, 42)\t1\n",
            "  (15998, 47)\t1\n",
            "  (15999, 10)\t1\n",
            "  (15999, 38)\t1\n",
            "  (15999, 42)\t1\n",
            "  (15999, 45)\t1\n"
          ]
        }
      ]
    },
    {
      "cell_type": "markdown",
      "source": [
        "**Training the Model**"
      ],
      "metadata": {
        "id": "OmGVLWdQOBJx"
      }
    },
    {
      "cell_type": "code",
      "source": [
        "# Train the model\n",
        "history = model.fit(X_train, y_train, epochs=10, batch_size=32, validation_data=(X_test, y_test))"
      ],
      "metadata": {
        "colab": {
          "base_uri": "https://localhost:8080/"
        },
        "id": "RE5D3a5sLPQZ",
        "outputId": "bf39bc69-8859-4b9b-838c-2d9a2d7399ff"
      },
      "execution_count": null,
      "outputs": [
        {
          "output_type": "stream",
          "name": "stdout",
          "text": [
            "Epoch 1/10\n",
            "500/500 [==============================] - 3s 3ms/step - loss: 0.4687 - accuracy: 0.8263 - val_loss: 0.4474 - val_accuracy: 0.8357\n",
            "Epoch 2/10\n",
            "500/500 [==============================] - 1s 3ms/step - loss: 0.4517 - accuracy: 0.8329 - val_loss: 0.4495 - val_accuracy: 0.8357\n",
            "Epoch 3/10\n",
            "500/500 [==============================] - 1s 2ms/step - loss: 0.4510 - accuracy: 0.8329 - val_loss: 0.4487 - val_accuracy: 0.8357\n",
            "Epoch 4/10\n",
            "500/500 [==============================] - 1s 2ms/step - loss: 0.4507 - accuracy: 0.8329 - val_loss: 0.4495 - val_accuracy: 0.8357\n",
            "Epoch 5/10\n",
            "500/500 [==============================] - 1s 2ms/step - loss: 0.4502 - accuracy: 0.8329 - val_loss: 0.4502 - val_accuracy: 0.8357\n",
            "Epoch 6/10\n",
            "500/500 [==============================] - 1s 2ms/step - loss: 0.4499 - accuracy: 0.8329 - val_loss: 0.4505 - val_accuracy: 0.8357\n",
            "Epoch 7/10\n",
            "500/500 [==============================] - 1s 3ms/step - loss: 0.4490 - accuracy: 0.8329 - val_loss: 0.4513 - val_accuracy: 0.8357\n",
            "Epoch 8/10\n",
            "500/500 [==============================] - 2s 3ms/step - loss: 0.4487 - accuracy: 0.8329 - val_loss: 0.4530 - val_accuracy: 0.8357\n",
            "Epoch 9/10\n",
            "500/500 [==============================] - 1s 2ms/step - loss: 0.4483 - accuracy: 0.8329 - val_loss: 0.4524 - val_accuracy: 0.8357\n",
            "Epoch 10/10\n",
            "500/500 [==============================] - 1s 3ms/step - loss: 0.4477 - accuracy: 0.8329 - val_loss: 0.4541 - val_accuracy: 0.8357\n"
          ]
        }
      ]
    },
    {
      "cell_type": "markdown",
      "source": [
        "**Plotting Loss and Accuracy**"
      ],
      "metadata": {
        "id": "iyBuQGnnOFFC"
      }
    },
    {
      "cell_type": "code",
      "source": [
        "import matplotlib.pyplot as plt\n",
        "\n",
        "# Get the training loss and accuracy history\n",
        "train_loss = history.history['loss']\n",
        "train_accuracy = history.history['accuracy']\n",
        "\n",
        "# Get the validation loss and accuracy history\n",
        "val_loss = history.history['val_loss']\n",
        "val_accuracy = history.history['val_accuracy']\n",
        "\n",
        "# Plot the training loss and validation loss\n",
        "plt.figure(figsize=(12, 4))\n",
        "plt.subplot(1, 2, 1)\n",
        "plt.plot(train_loss, label='Training Loss')\n",
        "plt.plot(val_loss, label='Validation Loss')\n",
        "plt.xlabel('Epochs')\n",
        "plt.ylabel('Loss')\n",
        "plt.title('Training and Validation Loss')\n",
        "plt.legend()\n",
        "\n",
        "# Plot the training accuracy and validation accuracy\n",
        "plt.subplot(1, 2, 2)\n",
        "plt.plot(train_accuracy, label='Training Accuracy')\n",
        "plt.plot(val_accuracy, label='Validation Accuracy')\n",
        "plt.xlabel('Epochs')\n",
        "plt.ylabel('Accuracy')\n",
        "plt.title('Training and Validation Accuracy')\n",
        "\n",
        "# Set the y-axis range for accuracy\n",
        "plt.ylim([0.820, 0.845])\n",
        "\n",
        "plt.legend()\n",
        "plt.tight_layout()\n",
        "plt.show()"
      ],
      "metadata": {
        "colab": {
          "base_uri": "https://localhost:8080/",
          "height": 407
        },
        "id": "cwDL-rXXCDH3",
        "outputId": "14dbaba7-2ef5-41f9-9fce-8aa1c1c0e6d5"
      },
      "execution_count": null,
      "outputs": [
        {
          "output_type": "display_data",
          "data": {
            "text/plain": [
              "<Figure size 1200x400 with 2 Axes>"
            ],
            "image/png": "[encoded data removed]"
          },
          "metadata": {}
        }
      ]
    },
    {
      "cell_type": "markdown",
      "source": [
        "**Saving Model**"
      ],
      "metadata": {
        "id": "ftTq7_s-QOEx"
      }
    },
    {
      "cell_type": "code",
      "source": [
        "# Save model\n",
        "model.save(\"TripPal.h5\")"
      ],
      "metadata": {
        "id": "YM642lgSemQH"
      },
      "execution_count": null,
      "outputs": []
    },
    {
      "cell_type": "code",
      "source": [
        "#Save model CountVectorizer\n",
        "from joblib import dump, load\n",
        "dump(count, 'Model CV.joblib')"
      ],
      "metadata": {
        "colab": {
          "base_uri": "https://localhost:8080/"
        },
        "id": "Pee3YTRT0cln",
        "outputId": "a0909e10-2472-41e5-a701-177381f29e49"
      },
      "execution_count": null,
      "outputs": [
        {
          "output_type": "execute_result",
          "data": {
            "text/plain": [
              "['Model CV.joblib']"
            ]
          },
          "metadata": {},
          "execution_count": 26
        }
      ]
    },
    {
      "cell_type": "markdown",
      "source": [
        "**Loading Model and Making Matching Function**"
      ],
      "metadata": {
        "id": "sh1e06Uv11ni"
      }
    },
    {
      "cell_type": "code",
      "source": [
        "#clf = load('Model CV.joblib')"
      ],
      "metadata": {
        "id": "BFovyFec0vrN"
      },
      "execution_count": null,
      "outputs": []
    },
    {
      "cell_type": "code",
      "source": [
        "def matching(text):\n",
        "  tf_model = tf.keras.models.load_model('TripPal.h5')\n",
        "  clf = load('Model CV.joblib')\n",
        "  count_matrix = clf.transform([text])\n",
        "  print(count_matrix)\n",
        "  save = model.predict(count_matrix)\n",
        "  return save.tolist()"
      ],
      "metadata": {
        "id": "95SWhAsP05gS"
      },
      "execution_count": null,
      "outputs": []
    },
    {
      "cell_type": "code",
      "source": [
        "count_matrix"
      ],
      "metadata": {
        "colab": {
          "base_uri": "https://localhost:8080/"
        },
        "id": "ZLXUrl4AZOt4",
        "outputId": "73cbe834-0f72-4f4a-bacd-b71f462d8d0f"
      },
      "execution_count": null,
      "outputs": [
        {
          "output_type": "execute_result",
          "data": {
            "text/plain": [
              "array([[0, 1, 0, ..., 0, 0, 0],\n",
              "       [0, 0, 0, ..., 0, 1, 0],\n",
              "       [0, 0, 0, ..., 0, 1, 0],\n",
              "       ...,\n",
              "       [0, 0, 0, ..., 0, 0, 0],\n",
              "       [0, 0, 0, ..., 0, 0, 1],\n",
              "       [0, 0, 0, ..., 0, 0, 1]])"
            ]
          },
          "metadata": {},
          "execution_count": 29
        }
      ]
    },
    {
      "cell_type": "code",
      "source": [
        "# Trying to input text to the function\n",
        "t = 'wanita 19 memasak wisataalam'\n",
        "matching(t)"
      ],
      "metadata": {
        "colab": {
          "base_uri": "https://localhost:8080/"
        },
        "id": "lJHQSnZd2FxC",
        "outputId": "38c9fe07-4b49-470e-c04d-0f7559d72cbb"
      },
      "execution_count": null,
      "outputs": [
        {
          "output_type": "stream",
          "name": "stdout",
          "text": [
            "  (0, 2)\t1\n",
            "  (0, 37)\t1\n",
            "  (0, 43)\t1\n",
            "  (0, 44)\t1\n",
            "1/1 [==============================] - 0s 115ms/step\n"
          ]
        },
        {
          "output_type": "execute_result",
          "data": {
            "text/plain": [
              "[[0.01697356253862381, 0.9830264449119568]]"
            ]
          },
          "metadata": {},
          "execution_count": 30
        }
      ]
    }
  ],
  "metadata": {
    "colab": {
      "provenance": []
    },
    "kernelspec": {
      "display_name": "Python 3",
      "name": "python3"
    },
    "language_info": {
      "name": "python"
    }
  },
  "nbformat": 4,
  "nbformat_minor": 0
}